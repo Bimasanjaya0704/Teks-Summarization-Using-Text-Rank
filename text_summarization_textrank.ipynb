{
 "cells": [
  {
   "cell_type": "code",
   "execution_count": 12,
   "id": "c3055d26",
   "metadata": {},
   "outputs": [],
   "source": [
    "import nltk\n",
    "from nltk.corpus import stopwords\n",
    "from nltk.tokenize import sent_tokenize, word_tokenize\n",
    "from sklearn.metrics.pairwise import cosine_similarity\n",
    "from sklearn.feature_extraction.text import TfidfVectorizer\n",
    "import networkx as nx\n",
    "import pickle"
   ]
  },
  {
   "cell_type": "code",
   "execution_count": 13,
   "id": "3df5836c",
   "metadata": {},
   "outputs": [],
   "source": [
    "# Step 1 : Read the text\n",
    "with open(\"artikelcovid.txt\", \"r\") as file:\n",
    "    text = file.read()"
   ]
  },
  {
   "cell_type": "code",
   "execution_count": 14,
   "id": "bf5f4d9b",
   "metadata": {},
   "outputs": [
    {
     "name": "stdout",
     "output_type": "stream",
     "text": [
      "Penyebab, Gejala dan Pencegahan Virus Corona\n",
      "Admin dinkes | 25 Januari 2021 | 250383 kali\n",
      "\n",
      "Pengertian Virus Corona (COVID-19)\n",
      "\n",
      "Infeksi coronavirus merupakan penyakit yang disebabkan oleh virus corona dan menimbulkan gejala utama berupa gangguan pernapasan. Penyakit ini menjadi sorotan karena kemunculannya di akhir tahun 2019 pertama kali di Wuhan, China. Lokasi kemunculannya pertama kali ini, membuat coronavirus juga dikenal dengan sebutan Wuhan virus.  \n",
      "\n",
      "Selain China, coronavirus juga menyebar secara cepat ke berbagai negara lain, termasuk Jepang, Thailand, Jepang, Korea Selatan, bahkan hingga ke Amerika Serikat.\n",
      "\n",
      "Penyebab Virus Corona (COVID-19)\n",
      "\n",
      "Penyebab Corona virus merupakan virus single stranded RNA yang berasal dari kelompok Coronaviridae. Dinamakan coronavirus karena permukaannya yang berbentuk seperti mahkota (crown/corona).\n",
      "\n",
      "Virus lain yang termasuk dalam kelompok yang serupa adalah virus yang menyebabkan Middle East Respiratory Syndrome (MERS-CoV) dan Severe Acute Respiratory Syndrome (SARS-CoV) beberapa tahun silam.\n",
      "\n",
      "Namun, virus corona dari Wuhan ini merupakan virus baru yang belum pernah teridentifikasi pada manusia sebelumnya. Karena itu, virus ini juga disebut sebagai 2019 Novel Coronavirus atau 2019-nCoV.\n",
      "\n",
      "Virus corona umumnya ditemukan pada hewan –seperti unta, ular, hewan ternak, kucing, dan kelelawar. Manusia dapat tertular virus apabila terdapat riwayat kontak dengan hewan tersebut, misalnya pada peternak atau pedagang di pasar hewan.\n",
      "\n",
      "Namun, adanya ledakan jumlah kasus di Wuhan, China menunjukkan bahwa corona virus dapat ditularkan dari manusia ke manusia. Virus bisa ditularkan lewat droplet, yaitu partikel air yang berukuran sangat kecil dan biasanya keluar saat batuk atau bersin. Apabila droplet tersebut terhirup atau mengenai lapisan kornea mata, seseorang berisiko untuk tertular penyakit ini.\n",
      "\n",
      "Meski semua orang dapat terinfeksi virus corona, mereka yang lanjut usia, memiliki penyakit kronis, dan memiliki daya tahan tubuh rendah lebih rentan mengalami infeksi ini serta komplikasinya.\n",
      "\n",
      "Gejala Virus Corona (COVID-19)\n",
      "\n",
      "Gejala Coronavirus bervariasi, mulai dari flu biasa hingga gangguan pernapasan berat menyerupai pneumonia. Gejala Corona yang umum dialami mereka yang mengalami infeksi coronavirus adalah:\n",
      "\n",
      "    Demam tinggi disertai menggigil\n",
      "    Batuk kering\n",
      "    Pilek\n",
      "    Hidung berair dan bersin-bersin\n",
      "    Nyeri tenggorokan\n",
      "    Sesak napas\n",
      "\n",
      "Gejala virus corona tersebut dapat bertambah parah secara cepat dan menyebabkan gagal napas hingga kematian. Centers for Disease Control and Prevention (CDC) gejala infeksi virus 2019-nCoV dapat muncul mulai dua hari hingga 14 hari setelah terpapar virus tersebut.\n",
      "\n",
      "Diagnosis Virus Corona (COVID-19)\n",
      "\n",
      "Infeksi coronavirus umumnya diketahui melalui gejala dan pemeriksaan fisik yang dikeluhkan pasien. Setelah itu, dokter akan melakukan sejumlah pemeriksaan penunjang untuk membantu menegakkan diagnosis.\n",
      "\n",
      "Pemeriksaan penunjang tersebut antara lain adalah pemeriksaan darah lengkap, pemeriksaan pembekuan darah, fungsi ginjal dan hati serta pemeriksaan virologi. Selain itu, spesimen dari hidung dan faring (tenggorokan) pasien pun akan diambil dengan teknik swab. Demikian pula, sediaan dahak dan, bila diperlukan, cairan bronkus (saluran pernapasan yang lebih kecil).\n",
      "\n",
      "Melalui pemeriksaan tersebut dapat diketahui apakah penyakit pasien disebabkan oleh virus atau sebab yang lain. Sementara itu, plasma darah pasien pun akan diperiksa untuk menemukan RNA virus corona.\n",
      "\n",
      "Untuk pemeriksaan radiologi, dapat dilakukan pemeriksaan rontgen (x-ray) dada dan CT-scan dada. Sebagian besar pasien akan menunjukkan gambaran kekeruhan di kedua paru.\n",
      "\n",
      "Komplikasi Virus Corona (COVID-19)\n",
      "\n",
      "Pasien yang terinfeksi coronavirus dapat mengalami gejala gangguan pernapasan seperti pneumonia berat, seperti demam tinggi dan sesak napas.\n",
      "\n",
      "Komplikasi seperti gagal napas, gagal jantung akut, dan infeksi sekunder akibat kuman lainnya dapat terjadi bila kondisi tersebut tidak segera diatasi atau bila penyakit mengalami perburukan dengan sangat cepat.\n",
      "\n",
      "Pengobatan Virus Corona (COVID-19)\n",
      "\n",
      "Hingga saat ini, belum ada terapi anti-virus yang terbukti efektif untuk mengatasi infeksi 2019-novel coronavirus. Beberapa anti-virus yang telah berhasil menangani infeksi MERS-CoV dan SARS-CoV sebelumnya, belum menunjukkan hasil memuaskan untuk mengatasi infeksi coronavirus yang baru ini.\n",
      "\n",
      "Penderita yang terinfeksi virus corona akan menerima terapi yang bersifat suportif untuk mengurangi gejala. Misalnya anti-piretik untuk menurunkan suhu tubuh dan cairan untuk mencegah dehidrasi, serta terapi oksigen pada pasien yang mengalami sesak napas.\n",
      "\n",
      "Pada kondisi yang berat, bantuan napas melalui mesin ventilator dapat diberikan pada pasien untuk menyokong fungsi organ vital lainnya.\n",
      "\n",
      "Pencegahan Virus Corona (COVID-19)\n",
      "\n",
      "Meski gejala penyakit coronavirus menyerupai penyakit pernapasan lain seperti pneumonia atau influenza, sejauh ini belum ada vaksin yang dapat mencegah penularan penyakit coronavirus. Pemberian vaksin pneumonia maupun vaksin influenza tidak dapat memberikan proteksi terhadap penyebaran infeksi virus corona.\n",
      "\n",
      "Cara terbaik untuk menghindari penyakit infeksi coronavirus adalah melakukan tindakan pencegahan secara aktif. CDC menyarankan setiap orang melakukan tindakan seperti:\n",
      "\n",
      "    Rutin mencuci tangan menggunakan sabun dan air mengalir selama setidaknya 20 detik\n",
      "    Apabila tidak memungkinkan atau tidak tersedia air dan sabun, bersihkan tangan menggunakan pembersih tangan berbahan alkohol\n",
      "    Hindari menyentuh hidung, mata, atau mulut terutama bila tangan masih kotor\n",
      "    Hindari kontak dengan orang yang sedang sakit\n",
      "    Tetaplah di rumah bila sedang sakit\n",
      "    Tutup mulut dengan tisu atau dengan menekuk siku saat Anda batuk atau bersin\n",
      "    Hindari kontak dengan hewan ternak secara langsung\n",
      "    Hindari bepergian, terutama ke daerah dengan kasus infeksi coronavirus\n",
      "    Hindari mengonsumsi daging yang belum matang sempurna.\n",
      "\n",
      "Menjaga nutrisi dengan mengonsumsi makanan yang bergizi seimbang, minum air putih dalam jumlah cukup, dan istirahat cukup juga dapat membantu menjaga kondisi tubuh agar tetap bugar dan terhindar dari infeksi virus corona.\n",
      "\n",
      "Setiap orang yang mengalami gejala menyerupai infeksi corona, jangan ragu untuk segera berkonsultasi dengan tenaga kesehatan untuk memastikan penyebabnya.\n",
      "\n",
      "Terimakasih\n",
      "\n"
     ]
    }
   ],
   "source": [
    "print(text)"
   ]
  },
  {
   "cell_type": "code",
   "execution_count": 15,
   "id": "190368a5",
   "metadata": {},
   "outputs": [],
   "source": [
    "# Step 2 : Tokenize the text\n",
    "sentences = sent_tokenize(text)"
   ]
  },
  {
   "cell_type": "code",
   "execution_count": 16,
   "id": "2c26ce8e",
   "metadata": {},
   "outputs": [],
   "source": [
    "# Step 3 : Remove stop words\n",
    "stop_words = set(stopwords.words(\"indonesian\"))\n",
    "filtered_sentences = []\n",
    "for sentence in sentences:\n",
    "    words = word_tokenize(sentence)\n",
    "    filtered_words = [w for w in words if w.lower() not in stop_words]\n",
    "    filtered_sentence = \" \".join(filtered_words)\n",
    "    filtered_sentences.append(filtered_sentence)"
   ]
  },
  {
   "cell_type": "code",
   "execution_count": 17,
   "id": "76efa0bc",
   "metadata": {},
   "outputs": [],
   "source": [
    "# Step 4 : Create a matrix of sentence similarity\n",
    "tfidf_vectorizer = TfidfVectorizer()\n",
    "tfidf_matrix = tfidf_vectorizer.fit_transform(filtered_sentences)\n",
    "similarity_matrix = cosine_similarity(tfidf_matrix)"
   ]
  },
  {
   "cell_type": "code",
   "execution_count": 18,
   "id": "e7f04658",
   "metadata": {},
   "outputs": [],
   "source": [
    "# Step 5 : Apply TextRank\n",
    "nx_graph = nx.from_numpy_array(similarity_matrix)\n",
    "scores = nx.pagerank(nx_graph)"
   ]
  },
  {
   "cell_type": "code",
   "execution_count": 19,
   "id": "ae0999d8",
   "metadata": {},
   "outputs": [],
   "source": [
    "# Step 6 : Select top N sentences\n",
    "ranked_sentences = sorted(((scores[i],s) for i,s in enumerate(sentences)), reverse=True)"
   ]
  },
  {
   "cell_type": "code",
   "execution_count": 20,
   "id": "b105fa16",
   "metadata": {},
   "outputs": [],
   "source": [
    "# Step 7 : Print the summary\n",
    "N = 1 # number of sentences in summary\n",
    "summary = []\n",
    "for i in range(N):\n",
    "    summary.append(ranked_sentences[i][1])"
   ]
  },
  {
   "cell_type": "code",
   "execution_count": 21,
   "id": "a0b9c2aa",
   "metadata": {},
   "outputs": [
    {
     "name": "stdout",
     "output_type": "stream",
     "text": [
      "Diagnosis Virus Corona (COVID-19)\n",
      "\n",
      "Infeksi coronavirus umumnya diketahui melalui gejala dan pemeriksaan fisik yang dikeluhkan pasien.\n"
     ]
    }
   ],
   "source": [
    "print(\" \".join(summary))"
   ]
  },
  {
   "cell_type": "code",
   "execution_count": 23,
   "id": "9ff58cac",
   "metadata": {},
   "outputs": [],
   "source": [
    "pickle.dump(summary, open(\"model.pkl\", \"wb\"))"
   ]
  },
  {
   "cell_type": "code",
   "execution_count": null,
   "id": "b5b48997",
   "metadata": {},
   "outputs": [],
   "source": []
  }
 ],
 "metadata": {
  "kernelspec": {
   "display_name": "Python 3 (ipykernel)",
   "language": "python",
   "name": "python3"
  },
  "language_info": {
   "codemirror_mode": {
    "name": "ipython",
    "version": 3
   },
   "file_extension": ".py",
   "mimetype": "text/x-python",
   "name": "python",
   "nbconvert_exporter": "python",
   "pygments_lexer": "ipython3",
   "version": "3.10.6"
  }
 },
 "nbformat": 4,
 "nbformat_minor": 5
}
