{
 "cells": [
  {
   "cell_type": "code",
   "execution_count": 5,
   "id": "c3055d26",
   "metadata": {},
   "outputs": [],
   "source": [
    "import nltk\n",
    "from nltk.corpus import stopwords\n",
    "from nltk.tokenize import sent_tokenize, word_tokenize\n",
    "from sklearn.metrics.pairwise import cosine_similarity\n",
    "from sklearn.feature_extraction.text import TfidfVectorizer\n",
    "import networkx as nx"
   ]
  },
  {
   "cell_type": "code",
   "execution_count": 6,
   "id": "3df5836c",
   "metadata": {},
   "outputs": [],
   "source": [
    "# Step 1 : Read the text\n",
    "with open(\"artikelcovid.txt\", \"r\") as file:\n",
    "    text = file.read()"
   ]
  },
  {
   "cell_type": "code",
   "execution_count": 7,
   "id": "bf5f4d9b",
   "metadata": {},
   "outputs": [
    {
     "name": "stdout",
     "output_type": "stream",
     "text": [
      "Penyebab, Gejala dan Pencegahan Virus Corona\n",
      "Admin dinkes | 25 Januari 2021 | 250383 kali\n",
      "\n",
      "Pengertian Virus Corona (COVID-19)\n",
      "\n",
      "Infeksi coronavirus merupakan penyakit yang disebabkan oleh virus corona dan menimbulkan gejala utama berupa gangguan pernapasan. Penyakit ini menjadi sorotan karena kemunculannya di akhir tahun 2019 pertama kali di Wuhan, China. Lokasi kemunculannya pertama kali ini, membuat coronavirus juga dikenal dengan sebutan Wuhan virus.  \n",
      "\n",
      "Selain China, coronavirus juga menyebar secara cepat ke berbagai negara lain, termasuk Jepang, Thailand, Jepang, Korea Selatan, bahkan hingga ke Amerika Serikat.\n",
      "\n",
      "Penyebab Virus Corona (COVID-19)\n",
      "\n",
      "Penyebab Corona virus merupakan virus single stranded RNA yang berasal dari kelompok Coronaviridae. Dinamakan coronavirus karena permukaannya yang berbentuk seperti mahkota (crown/corona).\n",
      "\n",
      "Virus lain yang termasuk dalam kelompok yang serupa adalah virus yang menyebabkan Middle East Respiratory Syndrome (MERS-CoV) dan Severe Acute Respiratory Syndrome (SARS-CoV) beberapa tahun silam.\n",
      "\n",
      "Namun, virus corona dari Wuhan ini merupakan virus baru yang belum pernah teridentifikasi pada manusia sebelumnya. Karena itu, virus ini juga disebut sebagai 2019 Novel Coronavirus atau 2019-nCoV.\n",
      "\n",
      "Virus corona umumnya ditemukan pada hewan –seperti unta, ular, hewan ternak, kucing, dan kelelawar. Manusia dapat tertular virus apabila terdapat riwayat kontak dengan hewan tersebut, misalnya pada peternak atau pedagang di pasar hewan.\n",
      "\n",
      "Namun, adanya ledakan jumlah kasus di Wuhan, China menunjukkan bahwa corona virus dapat ditularkan dari manusia ke manusia. Virus bisa ditularkan lewat droplet, yaitu partikel air yang berukuran sangat kecil dan biasanya keluar saat batuk atau bersin. Apabila droplet tersebut terhirup atau mengenai lapisan kornea mata, seseorang berisiko untuk tertular penyakit ini.\n",
      "\n",
      "Meski semua orang dapat terinfeksi virus corona, mereka yang lanjut usia, memiliki penyakit kronis, dan memiliki daya tahan tubuh rendah lebih rentan mengalami infeksi ini serta komplikasinya.\n",
      "\n",
      "Gejala Virus Corona (COVID-19)\n",
      "\n",
      "Gejala Coronavirus bervariasi, mulai dari flu biasa hingga gangguan pernapasan berat menyerupai pneumonia. Gejala Corona yang umum dialami mereka yang mengalami infeksi coronavirus adalah:\n",
      "\n",
      "    Demam tinggi disertai menggigil\n",
      "    Batuk kering\n",
      "    Pilek\n",
      "    Hidung berair dan bersin-bersin\n",
      "    Nyeri tenggorokan\n",
      "    Sesak napas\n",
      "\n",
      "Gejala virus corona tersebut dapat bertambah parah secara cepat dan menyebabkan gagal napas hingga kematian. Centers for Disease Control and Prevention (CDC) gejala infeksi virus 2019-nCoV dapat muncul mulai dua hari hingga 14 hari setelah terpapar virus tersebut.\n",
      "\n",
      "Diagnosis Virus Corona (COVID-19)\n",
      "\n",
      "Infeksi coronavirus umumnya diketahui melalui gejala dan pemeriksaan fisik yang dikeluhkan pasien. Setelah itu, dokter akan melakukan sejumlah pemeriksaan penunjang untuk membantu menegakkan diagnosis.\n",
      "\n",
      "Pemeriksaan penunjang tersebut antara lain adalah pemeriksaan darah lengkap, pemeriksaan pembekuan darah, fungsi ginjal dan hati serta pemeriksaan virologi. Selain itu, spesimen dari hidung dan faring (tenggorokan) pasien pun akan diambil dengan teknik swab. Demikian pula, sediaan dahak dan, bila diperlukan, cairan bronkus (saluran pernapasan yang lebih kecil).\n",
      "\n",
      "Melalui pemeriksaan tersebut dapat diketahui apakah penyakit pasien disebabkan oleh virus atau sebab yang lain. Sementara itu, plasma darah pasien pun akan diperiksa untuk menemukan RNA virus corona.\n",
      "\n",
      "Untuk pemeriksaan radiologi, dapat dilakukan pemeriksaan rontgen (x-ray) dada dan CT-scan dada. Sebagian besar pasien akan menunjukkan gambaran kekeruhan di kedua paru.\n",
      "\n",
      "Komplikasi Virus Corona (COVID-19)\n",
      "\n",
      "Pasien yang terinfeksi coronavirus dapat mengalami gejala gangguan pernapasan seperti pneumonia berat, seperti demam tinggi dan sesak napas.\n",
      "\n",
      "Komplikasi seperti gagal napas, gagal jantung akut, dan infeksi sekunder akibat kuman lainnya dapat terjadi bila kondisi tersebut tidak segera diatasi atau bila penyakit mengalami perburukan dengan sangat cepat.\n",
      "\n",
      "Pengobatan Virus Corona (COVID-19)\n",
      "\n",
      "Hingga saat ini, belum ada terapi anti-virus yang terbukti efektif untuk mengatasi infeksi 2019-novel coronavirus. Beberapa anti-virus yang telah berhasil menangani infeksi MERS-CoV dan SARS-CoV sebelumnya, belum menunjukkan hasil memuaskan untuk mengatasi infeksi coronavirus yang baru ini.\n",
      "\n",
      "Penderita yang terinfeksi virus corona akan menerima terapi yang bersifat suportif untuk mengurangi gejala. Misalnya anti-piretik untuk menurunkan suhu tubuh dan cairan untuk mencegah dehidrasi, serta terapi oksigen pada pasien yang mengalami sesak napas.\n",
      "\n",
      "Pada kondisi yang berat, bantuan napas melalui mesin ventilator dapat diberikan pada pasien untuk menyokong fungsi organ vital lainnya.\n",
      "\n",
      "Pencegahan Virus Corona (COVID-19)\n",
      "\n",
      "Meski gejala penyakit coronavirus menyerupai penyakit pernapasan lain seperti pneumonia atau influenza, sejauh ini belum ada vaksin yang dapat mencegah penularan penyakit coronavirus. Pemberian vaksin pneumonia maupun vaksin influenza tidak dapat memberikan proteksi terhadap penyebaran infeksi virus corona.\n",
      "\n",
      "Cara terbaik untuk menghindari penyakit infeksi coronavirus adalah melakukan tindakan pencegahan secara aktif. CDC menyarankan setiap orang melakukan tindakan seperti:\n",
      "\n",
      "    Rutin mencuci tangan menggunakan sabun dan air mengalir selama setidaknya 20 detik\n",
      "    Apabila tidak memungkinkan atau tidak tersedia air dan sabun, bersihkan tangan menggunakan pembersih tangan berbahan alkohol\n",
      "    Hindari menyentuh hidung, mata, atau mulut terutama bila tangan masih kotor\n",
      "    Hindari kontak dengan orang yang sedang sakit\n",
      "    Tetaplah di rumah bila sedang sakit\n",
      "    Tutup mulut dengan tisu atau dengan menekuk siku saat Anda batuk atau bersin\n",
      "    Hindari kontak dengan hewan ternak secara langsung\n",
      "    Hindari bepergian, terutama ke daerah dengan kasus infeksi coronavirus\n",
      "    Hindari mengonsumsi daging yang belum matang sempurna.\n",
      "\n",
      "Menjaga nutrisi dengan mengonsumsi makanan yang bergizi seimbang, minum air putih dalam jumlah cukup, dan istirahat cukup juga dapat membantu menjaga kondisi tubuh agar tetap bugar dan terhindar dari infeksi virus corona.\n",
      "\n",
      "Setiap orang yang mengalami gejala menyerupai infeksi corona, jangan ragu untuk segera berkonsultasi dengan tenaga kesehatan untuk memastikan penyebabnya.\n",
      "\n"
     ]
    }
   ],
   "source": [
    "print(text)"
   ]
  },
  {
   "cell_type": "code",
   "execution_count": 8,
   "id": "190368a5",
   "metadata": {},
   "outputs": [],
   "source": [
    "# Step 2 : Tokenize the text\n",
    "sentences = sent_tokenize(text)"
   ]
  },
  {
   "cell_type": "code",
   "execution_count": 9,
   "id": "2c26ce8e",
   "metadata": {},
   "outputs": [
    {
     "name": "stdout",
     "output_type": "stream",
     "text": [
      "['Penyebab , Gejala Pencegahan Virus Corona Admin dinkes | 25 Januari 2021 | 250383 kali Pengertian Virus Corona ( COVID-19 ) Infeksi coronavirus penyakit disebabkan virus corona menimbulkan gejala utama gangguan pernapasan .', 'Penyakit sorotan kemunculannya 2019 kali Wuhan , China .', 'Lokasi kemunculannya kali , coronavirus dikenal sebutan Wuhan virus .', 'China , coronavirus menyebar cepat negara , Jepang , Thailand , Jepang , Korea Selatan , Amerika Serikat .', 'Penyebab Virus Corona ( COVID-19 ) Penyebab Corona virus virus single stranded RNA berasal kelompok Coronaviridae .', 'Dinamakan coronavirus permukaannya berbentuk mahkota ( crown/corona ) .', 'Virus kelompok virus menyebabkan Middle East Respiratory Syndrome ( MERS-CoV ) Severe Acute Respiratory Syndrome ( SARS-CoV ) silam .', ', virus corona Wuhan virus teridentifikasi manusia .', ', virus 2019 Novel Coronavirus 2019-nCoV .', 'Virus corona ditemukan hewan –seperti unta , ular , hewan ternak , kucing , kelelawar .', 'Manusia tertular virus riwayat kontak hewan , peternak pedagang pasar hewan .', ', ledakan Wuhan , China corona virus ditularkan manusia manusia .', 'Virus ditularkan droplet , partikel air berukuran batuk bersin .', 'droplet terhirup lapisan kornea mata , berisiko tertular penyakit .', 'orang terinfeksi virus corona , usia , memiliki penyakit kronis , memiliki daya tahan tubuh rendah rentan mengalami infeksi komplikasinya .', 'Gejala Virus Corona ( COVID-19 ) Gejala Coronavirus bervariasi , flu gangguan pernapasan berat menyerupai pneumonia .', 'Gejala Corona dialami mengalami infeksi coronavirus : Demam disertai menggigil Batuk kering Pilek Hidung berair bersin-bersin Nyeri tenggorokan Sesak napas Gejala virus corona bertambah parah cepat menyebabkan gagal napas kematian .', 'Centers for Disease Control and Prevention ( CDC ) gejala infeksi virus 2019-nCoV muncul 14 terpapar virus .', 'Diagnosis Virus Corona ( COVID-19 ) Infeksi coronavirus gejala pemeriksaan fisik dikeluhkan pasien .', ', dokter pemeriksaan penunjang membantu menegakkan diagnosis .', 'Pemeriksaan penunjang pemeriksaan darah lengkap , pemeriksaan pembekuan darah , fungsi ginjal hati pemeriksaan virologi .', ', spesimen hidung faring ( tenggorokan ) pasien diambil teknik swab .', ', sediaan dahak , , cairan bronkus ( saluran pernapasan ) .', 'pemeriksaan penyakit pasien disebabkan virus .', ', plasma darah pasien diperiksa menemukan RNA virus corona .', 'pemeriksaan radiologi , pemeriksaan rontgen ( x-ray ) dada CT-scan dada .', 'pasien gambaran kekeruhan paru .', 'Komplikasi Virus Corona ( COVID-19 ) Pasien terinfeksi coronavirus mengalami gejala gangguan pernapasan pneumonia berat , demam sesak napas .', 'Komplikasi gagal napas , gagal jantung akut , infeksi sekunder akibat kuman kondisi diatasi penyakit mengalami perburukan cepat .', 'Pengobatan Virus Corona ( COVID-19 ) , terapi anti-virus terbukti efektif mengatasi infeksi 2019-novel coronavirus .', 'anti-virus berhasil menangani infeksi MERS-CoV SARS-CoV , hasil memuaskan mengatasi infeksi coronavirus .', 'Penderita terinfeksi virus corona menerima terapi bersifat suportif mengurangi gejala .', 'anti-piretik menurunkan suhu tubuh cairan mencegah dehidrasi , terapi oksigen pasien mengalami sesak napas .', 'kondisi berat , bantuan napas mesin ventilator pasien menyokong fungsi organ vital .', 'Pencegahan Virus Corona ( COVID-19 ) gejala penyakit coronavirus menyerupai penyakit pernapasan pneumonia influenza , vaksin mencegah penularan penyakit coronavirus .', 'Pemberian vaksin pneumonia vaksin influenza proteksi penyebaran infeksi virus corona .', 'terbaik menghindari penyakit infeksi coronavirus tindakan pencegahan aktif .', 'CDC menyarankan orang tindakan : Rutin mencuci tangan sabun air mengalir 20 detik tersedia air sabun , bersihkan tangan pembersih tangan berbahan alkohol Hindari menyentuh hidung , mata , mulut tangan kotor Hindari kontak orang sakit Tetaplah rumah sakit Tutup mulut tisu menekuk siku batuk bersin Hindari kontak hewan ternak langsung Hindari bepergian , daerah infeksi coronavirus Hindari mengonsumsi daging matang sempurna .', 'Menjaga nutrisi mengonsumsi makanan bergizi seimbang , minum air putih , istirahat membantu menjaga kondisi tubuh bugar terhindar infeksi virus corona .', 'orang mengalami gejala menyerupai infeksi corona , ragu berkonsultasi tenaga kesehatan penyebabnya .']\n"
     ]
    }
   ],
   "source": [
    "# Step 3 : Remove stop words\n",
    "stop_words = set(stopwords.words(\"indonesian\"))\n",
    "filtered_sentences = []\n",
    "for sentence in sentences:\n",
    "    words = word_tokenize(sentence)\n",
    "    filtered_words = [w for w in words if w.lower() not in stop_words]\n",
    "    filtered_sentence = \" \".join(filtered_words)\n",
    "    filtered_sentences.append(filtered_sentence)\n",
    "    \n",
    "print(filtered_sentences)"
   ]
  },
  {
   "cell_type": "code",
   "execution_count": 10,
   "id": "76efa0bc",
   "metadata": {},
   "outputs": [
    {
     "name": "stdout",
     "output_type": "stream",
     "text": [
      "[[1.         0.11204046 0.13084937 ... 0.0120642  0.06895311 0.12849952]\n",
      " [0.11204046 1.         0.40914951 ... 0.         0.         0.        ]\n",
      " [0.13084937 0.40914951 1.         ... 0.01096654 0.01421232 0.        ]\n",
      " ...\n",
      " [0.0120642  0.         0.01096654 ... 1.         0.06066893 0.06095497]\n",
      " [0.06895311 0.         0.01421232 ... 0.06066893 1.         0.0399758 ]\n",
      " [0.12849952 0.         0.         ... 0.06095497 0.0399758  1.        ]]\n"
     ]
    }
   ],
   "source": [
    "# Step 4 : Create a matrix of sentence similarity\n",
    "tfidf_vectorizer = TfidfVectorizer()\n",
    "tfidf_matrix = tfidf_vectorizer.fit_transform(filtered_sentences)\n",
    "similarity_matrix = cosine_similarity(tfidf_matrix)\n",
    "\n",
    "print(similarity_matrix)"
   ]
  },
  {
   "cell_type": "code",
   "execution_count": 11,
   "id": "e7f04658",
   "metadata": {},
   "outputs": [
    {
     "name": "stdout",
     "output_type": "stream",
     "text": [
      "{0: 0.03999649641508684, 1: 0.024655383897939028, 2: 0.023555484736159062, 3: 0.01693055189638984, 4: 0.0291849227404254, 5: 0.01871796147201732, 6: 0.019009862208941842, 7: 0.03277332618944102, 8: 0.02511855192486762, 9: 0.02052673664855478, 10: 0.02109065958497802, 11: 0.027097187935893025, 12: 0.02061946867819621, 13: 0.017891243732316153, 14: 0.024074368396238527, 15: 0.03507778918947327, 16: 0.03138462110427446, 17: 0.023823642998242994, 18: 0.04186472519941135, 19: 0.019388458375334, 20: 0.022377833521722755, 21: 0.01754831935120593, 22: 0.01652132484381893, 23: 0.03604919597069591, 24: 0.025194613913616954, 25: 0.018532636118768153, 26: 0.017583817692766596, 27: 0.04067888072122246, 28: 0.021144596337332153, 29: 0.03502198512318862, 30: 0.02406766199253151, 31: 0.02320369113641257, 32: 0.022371568744866274, 33: 0.019184451233414078, 34: 0.03947992082921792, 35: 0.022899049155740748, 36: 0.022406368975751434, 37: 0.01868851533927264, 38: 0.02113663404312277, 39: 0.023127491631150934}\n"
     ]
    }
   ],
   "source": [
    "# Step 5 : Apply TextRank\n",
    "nx_graph = nx.from_numpy_array(similarity_matrix)\n",
    "scores = nx.pagerank(nx_graph)\n",
    "\n",
    "print(scores)"
   ]
  },
  {
   "cell_type": "code",
   "execution_count": 12,
   "id": "ae0999d8",
   "metadata": {},
   "outputs": [
    {
     "name": "stdout",
     "output_type": "stream",
     "text": [
      "[(0.04186472519941135, 'Diagnosis Virus Corona (COVID-19)\\n\\nInfeksi coronavirus umumnya diketahui melalui gejala dan pemeriksaan fisik yang dikeluhkan pasien.'), (0.04067888072122246, 'Komplikasi Virus Corona (COVID-19)\\n\\nPasien yang terinfeksi coronavirus dapat mengalami gejala gangguan pernapasan seperti pneumonia berat, seperti demam tinggi dan sesak napas.'), (0.03999649641508684, 'Penyebab, Gejala dan Pencegahan Virus Corona\\nAdmin dinkes | 25 Januari 2021 | 250383 kali\\n\\nPengertian Virus Corona (COVID-19)\\n\\nInfeksi coronavirus merupakan penyakit yang disebabkan oleh virus corona dan menimbulkan gejala utama berupa gangguan pernapasan.'), (0.03947992082921792, 'Pencegahan Virus Corona (COVID-19)\\n\\nMeski gejala penyakit coronavirus menyerupai penyakit pernapasan lain seperti pneumonia atau influenza, sejauh ini belum ada vaksin yang dapat mencegah penularan penyakit coronavirus.'), (0.03604919597069591, 'Melalui pemeriksaan tersebut dapat diketahui apakah penyakit pasien disebabkan oleh virus atau sebab yang lain.'), (0.03507778918947327, 'Gejala Virus Corona (COVID-19)\\n\\nGejala Coronavirus bervariasi, mulai dari flu biasa hingga gangguan pernapasan berat menyerupai pneumonia.'), (0.03502198512318862, 'Pengobatan Virus Corona (COVID-19)\\n\\nHingga saat ini, belum ada terapi anti-virus yang terbukti efektif untuk mengatasi infeksi 2019-novel coronavirus.'), (0.03277332618944102, 'Namun, virus corona dari Wuhan ini merupakan virus baru yang belum pernah teridentifikasi pada manusia sebelumnya.'), (0.03138462110427446, 'Gejala Corona yang umum dialami mereka yang mengalami infeksi coronavirus adalah:\\n\\n    Demam tinggi disertai menggigil\\n    Batuk kering\\n    Pilek\\n    Hidung berair dan bersin-bersin\\n    Nyeri tenggorokan\\n    Sesak napas\\n\\nGejala virus corona tersebut dapat bertambah parah secara cepat dan menyebabkan gagal napas hingga kematian.'), (0.0291849227404254, 'Penyebab Virus Corona (COVID-19)\\n\\nPenyebab Corona virus merupakan virus single stranded RNA yang berasal dari kelompok Coronaviridae.'), (0.027097187935893025, 'Namun, adanya ledakan jumlah kasus di Wuhan, China menunjukkan bahwa corona virus dapat ditularkan dari manusia ke manusia.'), (0.025194613913616954, 'Sementara itu, plasma darah pasien pun akan diperiksa untuk menemukan RNA virus corona.'), (0.02511855192486762, 'Karena itu, virus ini juga disebut sebagai 2019 Novel Coronavirus atau 2019-nCoV.'), (0.024655383897939028, 'Penyakit ini menjadi sorotan karena kemunculannya di akhir tahun 2019 pertama kali di Wuhan, China.'), (0.024074368396238527, 'Meski semua orang dapat terinfeksi virus corona, mereka yang lanjut usia, memiliki penyakit kronis, dan memiliki daya tahan tubuh rendah lebih rentan mengalami infeksi ini serta komplikasinya.'), (0.02406766199253151, 'Beberapa anti-virus yang telah berhasil menangani infeksi MERS-CoV dan SARS-CoV sebelumnya, belum menunjukkan hasil memuaskan untuk mengatasi infeksi coronavirus yang baru ini.'), (0.023823642998242994, 'Centers for Disease Control and Prevention (CDC) gejala infeksi virus 2019-nCoV dapat muncul mulai dua hari hingga 14 hari setelah terpapar virus tersebut.'), (0.023555484736159062, 'Lokasi kemunculannya pertama kali ini, membuat coronavirus juga dikenal dengan sebutan Wuhan virus.'), (0.02320369113641257, 'Penderita yang terinfeksi virus corona akan menerima terapi yang bersifat suportif untuk mengurangi gejala.'), (0.023127491631150934, 'Setiap orang yang mengalami gejala menyerupai infeksi corona, jangan ragu untuk segera berkonsultasi dengan tenaga kesehatan untuk memastikan penyebabnya.'), (0.022899049155740748, 'Pemberian vaksin pneumonia maupun vaksin influenza tidak dapat memberikan proteksi terhadap penyebaran infeksi virus corona.'), (0.022406368975751434, 'Cara terbaik untuk menghindari penyakit infeksi coronavirus adalah melakukan tindakan pencegahan secara aktif.'), (0.022377833521722755, 'Pemeriksaan penunjang tersebut antara lain adalah pemeriksaan darah lengkap, pemeriksaan pembekuan darah, fungsi ginjal dan hati serta pemeriksaan virologi.'), (0.022371568744866274, 'Misalnya anti-piretik untuk menurunkan suhu tubuh dan cairan untuk mencegah dehidrasi, serta terapi oksigen pada pasien yang mengalami sesak napas.'), (0.021144596337332153, 'Komplikasi seperti gagal napas, gagal jantung akut, dan infeksi sekunder akibat kuman lainnya dapat terjadi bila kondisi tersebut tidak segera diatasi atau bila penyakit mengalami perburukan dengan sangat cepat.'), (0.02113663404312277, 'Menjaga nutrisi dengan mengonsumsi makanan yang bergizi seimbang, minum air putih dalam jumlah cukup, dan istirahat cukup juga dapat membantu menjaga kondisi tubuh agar tetap bugar dan terhindar dari infeksi virus corona.'), (0.02109065958497802, 'Manusia dapat tertular virus apabila terdapat riwayat kontak dengan hewan tersebut, misalnya pada peternak atau pedagang di pasar hewan.'), (0.02061946867819621, 'Virus bisa ditularkan lewat droplet, yaitu partikel air yang berukuran sangat kecil dan biasanya keluar saat batuk atau bersin.'), (0.02052673664855478, 'Virus corona umumnya ditemukan pada hewan –seperti unta, ular, hewan ternak, kucing, dan kelelawar.'), (0.019388458375334, 'Setelah itu, dokter akan melakukan sejumlah pemeriksaan penunjang untuk membantu menegakkan diagnosis.'), (0.019184451233414078, 'Pada kondisi yang berat, bantuan napas melalui mesin ventilator dapat diberikan pada pasien untuk menyokong fungsi organ vital lainnya.'), (0.019009862208941842, 'Virus lain yang termasuk dalam kelompok yang serupa adalah virus yang menyebabkan Middle East Respiratory Syndrome (MERS-CoV) dan Severe Acute Respiratory Syndrome (SARS-CoV) beberapa tahun silam.'), (0.01871796147201732, 'Dinamakan coronavirus karena permukaannya yang berbentuk seperti mahkota (crown/corona).'), (0.01868851533927264, 'CDC menyarankan setiap orang melakukan tindakan seperti:\\n\\n    Rutin mencuci tangan menggunakan sabun dan air mengalir selama setidaknya 20 detik\\n    Apabila tidak memungkinkan atau tidak tersedia air dan sabun, bersihkan tangan menggunakan pembersih tangan berbahan alkohol\\n    Hindari menyentuh hidung, mata, atau mulut terutama bila tangan masih kotor\\n    Hindari kontak dengan orang yang sedang sakit\\n    Tetaplah di rumah bila sedang sakit\\n    Tutup mulut dengan tisu atau dengan menekuk siku saat Anda batuk atau bersin\\n    Hindari kontak dengan hewan ternak secara langsung\\n    Hindari bepergian, terutama ke daerah dengan kasus infeksi coronavirus\\n    Hindari mengonsumsi daging yang belum matang sempurna.'), (0.018532636118768153, 'Untuk pemeriksaan radiologi, dapat dilakukan pemeriksaan rontgen (x-ray) dada dan CT-scan dada.'), (0.017891243732316153, 'Apabila droplet tersebut terhirup atau mengenai lapisan kornea mata, seseorang berisiko untuk tertular penyakit ini.'), (0.017583817692766596, 'Sebagian besar pasien akan menunjukkan gambaran kekeruhan di kedua paru.'), (0.01754831935120593, 'Selain itu, spesimen dari hidung dan faring (tenggorokan) pasien pun akan diambil dengan teknik swab.'), (0.01693055189638984, 'Selain China, coronavirus juga menyebar secara cepat ke berbagai negara lain, termasuk Jepang, Thailand, Jepang, Korea Selatan, bahkan hingga ke Amerika Serikat.'), (0.01652132484381893, 'Demikian pula, sediaan dahak dan, bila diperlukan, cairan bronkus (saluran pernapasan yang lebih kecil).')]\n"
     ]
    }
   ],
   "source": [
    "# Step 6 : Select top N sentences\n",
    "ranked_sentences = sorted(((scores[i],s) for i,s in enumerate(sentences)), reverse=True)\n",
    "\n",
    "print(ranked_sentences)"
   ]
  },
  {
   "cell_type": "code",
   "execution_count": 13,
   "id": "b105fa16",
   "metadata": {},
   "outputs": [],
   "source": [
    "# Step 7 : Print the summary\n",
    "N = 2 # number of sentences in summary\n",
    "summary = []\n",
    "for i in range(N):\n",
    "    summary.append(ranked_sentences[i][1])"
   ]
  },
  {
   "cell_type": "code",
   "execution_count": 14,
   "id": "a0b9c2aa",
   "metadata": {},
   "outputs": [
    {
     "name": "stdout",
     "output_type": "stream",
     "text": [
      "Diagnosis Virus Corona (COVID-19)\n",
      "\n",
      "Infeksi coronavirus umumnya diketahui melalui gejala dan pemeriksaan fisik yang dikeluhkan pasien. Komplikasi Virus Corona (COVID-19)\n",
      "\n",
      "Pasien yang terinfeksi coronavirus dapat mengalami gejala gangguan pernapasan seperti pneumonia berat, seperti demam tinggi dan sesak napas.\n"
     ]
    }
   ],
   "source": [
    "print(\" \".join(summary))"
   ]
  },
  {
   "cell_type": "code",
   "execution_count": null,
   "id": "9ff58cac",
   "metadata": {},
   "outputs": [],
   "source": []
  }
 ],
 "metadata": {
  "kernelspec": {
   "display_name": "Python 3 (ipykernel)",
   "language": "python",
   "name": "python3"
  },
  "language_info": {
   "codemirror_mode": {
    "name": "ipython",
    "version": 3
   },
   "file_extension": ".py",
   "mimetype": "text/x-python",
   "name": "python",
   "nbconvert_exporter": "python",
   "pygments_lexer": "ipython3",
   "version": "3.10.6"
  }
 },
 "nbformat": 4,
 "nbformat_minor": 5
}
